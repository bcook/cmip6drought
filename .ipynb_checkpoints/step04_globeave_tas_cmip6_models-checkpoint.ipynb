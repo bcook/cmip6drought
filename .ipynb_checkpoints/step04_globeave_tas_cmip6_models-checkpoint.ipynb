{
 "cells": [
  {
   "cell_type": "markdown",
   "metadata": {},
   "source": [
    "# For each model at native resolution, calculate the global annual average air temperature from 1850-2100\n",
    "## How it Works:\n",
    "* Choose ScenarioMIP: script will find all continuous simulations (historical+ssp) that include all specified variables\n",
    "* For each model+ensemble, interpolate to 1.5 degrees. Save each model (all ensembles) to single files on dropbox\n",
    "\n",
    "* Database here: http://mary.ldeo.columbia.edu:81/CMIP6/\n",
    "* For master list of everything available: wget http://mary.ldeo.columbia.edu/master_collection/mary_cmip6.csv\n"
   ]
  },
  {
   "cell_type": "markdown",
   "metadata": {},
   "source": [
    "## Start Clean"
   ]
  },
  {
   "cell_type": "code",
   "execution_count": 218,
   "metadata": {},
   "outputs": [],
   "source": [
    "# Reset the environment (start clean)\n",
    "%reset -f\n",
    "\n",
    "# Import Modules and define functions\n",
    "import calendar\n",
    "import datetime\n",
    "import os\n",
    "import numpy as np\n",
    "import numpy.ma as ma\n",
    "import netCDF4\n",
    "import matplotlib\n",
    "import copy\n",
    "from matplotlib import pyplot as plt\n",
    "import scipy\n",
    "import scipy.signal\n",
    "import scipy.io as sio\n",
    "import seaborn as sns\n",
    "import pandas as pd\n",
    "import scipy.stats as stats\n",
    "import statsmodels.api as sm\n",
    "from IPython.display import display\n",
    "import requests\n",
    "import pandas as pd\n",
    "import os\n",
    "\n",
    "# cartopy stuff\n",
    "import cartopy\n",
    "import cartopy.crs as ccrs\n",
    "import cartopy.feature as cfeature\n",
    "from shapely.geometry.polygon import LinearRing\n",
    "from cartopy.mpl.ticker import LongitudeFormatter, LatitudeFormatter\n",
    "\n",
    "# Borders for mapping: Cultural borders\n",
    "states_provinces = cfeature.NaturalEarthFeature(\n",
    "    category='cultural',\n",
    "    name='admin_1_states_provinces_lines',\n",
    "    scale='50m',\n",
    "    facecolor='none')\n",
    "# Coastline\n",
    "newcoast = cfeature.NaturalEarthFeature('physical', 'coastline', '10m',\n",
    "                                        edgecolor='k',\n",
    "                                        facecolor='none')\n",
    "#Lakes\n",
    "newlake = cfeature.NaturalEarthFeature('physical', 'lakes', '10m',\n",
    "                                        edgecolor='k',\n",
    "                                        facecolor='none')\n",
    "\n",
    "# Embeds plots inside the notebook (use in iPython Notebook)\n",
    "%matplotlib inline\n",
    "\n",
    "# For plotting a rectangle on the maps\n",
    "def plot_rectangle(ax, lonmin,lonmax,latmin,latmax):\n",
    "    xs = [lonmin,lonmax,lonmax,lonmin,lonmin]\n",
    "    ys = [latmin,latmin,latmax,latmax,latmin]\n",
    "    #ax.plot(xs, ys,latlon = True, color='k', linestyle='--', linewidth=3)\n",
    "    ax.plot(xs,ys,color='k',linestyle='--',linewidth=3,transform=ccrs.PlateCarree())\n",
    "\n",
    "def plot_point(ax,lon,lat):\n",
    "    xs = [lon]\n",
    "    ys = [lat]\n",
    "    #ax.plot(xs, ys,latlon = True, color='k', linestyle='--', linewidth=3)\n",
    "    #ax.scatter(xs,ys,color=np.array([0.5,0.5,0.5]),marker='*',linewidth=3,transform=ccrs.PlateCarree())\n",
    "    ax.scatter(xs,ys,color='k',edgecolors='k',marker='+',linewidth=0.5,s=5,transform=ccrs.PlateCarree(),zorder=2,alpha=0.5)\n",
    "\n",
    "ocean_color = np.float64([209,230,241])/255\n",
    "nmap=plt.cm.get_cmap(name=plt.cm.BrBG,lut=12) # only needed to set bins for pcolor/pcolormesh\n",
    "      \n",
    "# Month Vector\n",
    "mons     = np.array([1, 2, 3, 4, 5, 6, 7, 8, 9, 10, 11, 12])\n",
    "\n",
    "# Set plot styles\n",
    "# Formatting for titles\n",
    "fontdict_title = {'fontsize': 36}\n",
    "fig_size = np.array([10,10])\n",
    "\n",
    "# Formatting for figures\n",
    "style_new = {'xtick.direction': 'in', \\\n",
    "             'ytick.direction': 'in', \\\n",
    "             'font.sans-serif': 'Arial'}\n",
    "\n",
    "# raw output directory\n",
    "raw_dir  = '/Volumes/Apollo/CMIP6/cmip6rawyr'\n",
    "save_dir = '../cmip6proc/'\n",
    "\n",
    "# Lat/lons to interpolate to\n",
    "lon_intp = np.arange(-179.25,180.25,1.5)\n",
    "lat_intp = np.arange(-89.25,90.25,1.5)\n",
    "\n",
    "# Years to process (for combined hist+rcp)\n",
    "yrs_all = np.arange(1850,2100+1)\n"
   ]
  },
  {
   "cell_type": "markdown",
   "metadata": {},
   "source": [
    "## Load variable list files and find continuous simulations containing all these variables for specified scenario"
   ]
  },
  {
   "cell_type": "code",
   "execution_count": 221,
   "metadata": {},
   "outputs": [
    {
     "name": "stdout",
     "output_type": "stream",
     "text": [
      "['BCC-CSM2-MR' 'CanESM5' 'CanESM5' 'CanESM5' 'CanESM5' 'CanESM5' 'CanESM5'\n",
      " 'CanESM5' 'CanESM5' 'CanESM5' 'CESM2' 'CESM2-WACCM' 'CNRM-CM6-1'\n",
      " 'CNRM-CM6-1' 'CNRM-CM6-1' 'CNRM-CM6-1' 'CNRM-CM6-1' 'CNRM-CM6-1'\n",
      " 'CNRM-ESM2-1' 'CNRM-ESM2-1' 'CNRM-ESM2-1' 'CNRM-ESM2-1' 'CNRM-ESM2-1'\n",
      " 'GFDL-CM4' 'IPSL-CM6A-LR' 'IPSL-CM6A-LR' 'MIROC-ES2L' 'MIROC6' 'MIROC6'\n",
      " 'MIROC6' 'UKESM1-0-LL' 'UKESM1-0-LL' 'UKESM1-0-LL' 'UKESM1-0-LL'\n",
      " 'UKESM1-0-LL']\n",
      "['r1i1p1f1' 'r1i1p1f1' 'r2i1p1f1' 'r3i1p1f1' 'r4i1p1f1' 'r5i1p1f1'\n",
      " 'r7i1p1f1' 'r8i1p1f1' 'r9i1p1f1' 'r10i1p1f1' 'r1i1p1f1' 'r1i1p1f1'\n",
      " 'r1i1p1f2' 'r2i1p1f2' 'r3i1p1f2' 'r4i1p1f2' 'r5i1p1f2' 'r6i1p1f2'\n",
      " 'r1i1p1f2' 'r2i1p1f2' 'r3i1p1f2' 'r4i1p1f2' 'r5i1p1f2' 'r1i1p1f1'\n",
      " 'r1i1p1f1' 'r2i1p1f1' 'r1i1p1f2' 'r1i1p1f1' 'r2i1p1f1' 'r3i1p1f1'\n",
      " 'r1i1p1f2' 'r2i1p1f2' 'r3i1p1f2' 'r4i1p1f2' 'r8i1p1f2']\n"
     ]
    }
   ],
   "source": [
    "# Variable info: name, units, full name \n",
    "var_info = np.array([  ['pr',      'mm day-1', 'precipitation rate, all phases'],    \n",
    "                       ['mrsos',   'kg m-2',   'surface (top 10cm) soil moisture content (all phases)'],  \n",
    "                       ['mrso',    'kg m-2',   'total soil moisture content (all phases, summed over all layers)'],\n",
    "                       ['mrro',    'mm day-1', 'total run-off (including drainage through the base of the soil model)'],\n",
    "                       ['mrros',   'mm day-1', 'total surface run off leaving the land portion of the grid cell (excluding drainage through the base of the soil model)'],\n",
    "                       ['evspsbl', 'mm day-1', 'evaporation rate, including transpiration and sublimation'],\n",
    "                       ['tas',     'K',        'near surface (2-m) air temperature'],\n",
    "            ])\n",
    "\n",
    "# List of variables\n",
    "var_list=var_info[:,0].copy()\n",
    "\n",
    "# units\n",
    "unit_list=var_info[:,1].copy()\n",
    "\n",
    "# long name\n",
    "longname_list=var_info[:,2].copy()\n",
    "\n",
    "# Scenario\n",
    "ssp = 'ssp585'\n",
    "ssp = 'ssp370'\n",
    "ssp = 'ssp245'\n",
    "\n",
    "# Number of variables required\n",
    "numvar_req = np.size(var_list)\n",
    "\n",
    "#------------------------------------------------------------------------------------------\n",
    "\n",
    "# Load files\n",
    "varlist_ssp  = pd.read_csv('../varlists/model_procvar_'+ssp+'.csv'); \n",
    "varlist_hist = pd.read_csv('../varlists/model_procvar_hist.csv'); \n",
    "\n",
    "# Pull out arrays of all possible models/ensemble members\n",
    "list_allmodels = np.array(varlist_ssp.Model)\n",
    "list_allensemb = np.array(varlist_ssp.ensemble)\n",
    "\n",
    "# Pull out array of all column headers\n",
    "varlist_header=np.array(varlist_ssp.columns)\n",
    "\n",
    "# Loop through and find the location of all these variables in the dataframe\n",
    "loc_vars = np.zeros(np.shape(var_list))*np.nan\n",
    "for i_var in enumerate(var_list):\n",
    "\n",
    "    # Find the column for the current variable and store this information\n",
    "    loc_vars[i_var[0]] = np.where(varlist_header==i_var[1])[0]\n",
    "    \n",
    "# Calculate the number of variables available for each model/ensemble run\n",
    "numvar_avail_ssp  = np.sum(np.array(varlist_ssp.iloc[:,loc_vars]),axis=1)\n",
    "numvar_avail_hist = np.sum(np.array(varlist_hist.iloc[:,loc_vars]),axis=1)\n",
    "\n",
    "# Find simulations where all these variables are available\n",
    "i_mods = np.where( (numvar_avail_ssp==numvar_req) & (numvar_avail_hist==numvar_req) )[0]\n",
    "\n",
    "# Pull out list of models and ensemble designations\n",
    "valid_models = list_allmodels[i_mods].copy()\n",
    "valid_ensemb = list_allensemb[i_mods].copy()\n",
    "\n",
    "print(valid_models)\n",
    "print(valid_ensemb)\n"
   ]
  },
  {
   "cell_type": "markdown",
   "metadata": {},
   "source": [
    "## Unique Model List"
   ]
  },
  {
   "cell_type": "code",
   "execution_count": 222,
   "metadata": {},
   "outputs": [
    {
     "name": "stdout",
     "output_type": "stream",
     "text": [
      "['BCC-CSM2-MR' 'CESM2' 'CESM2-WACCM' 'CNRM-CM6-1' 'CNRM-ESM2-1' 'CanESM5'\n",
      " 'GFDL-CM4' 'IPSL-CM6A-LR' 'MIROC-ES2L' 'MIROC6' 'UKESM1-0-LL']\n",
      "11\n"
     ]
    }
   ],
   "source": [
    "unique_models = np.unique(valid_models)\n",
    "\n",
    "# shortcut already processed models\n",
    "#unique_models=unique_models[11:]\n",
    "\n",
    "print(unique_models)\n",
    "print(np.size(unique_models))"
   ]
  },
  {
   "cell_type": "markdown",
   "metadata": {},
   "source": [
    "## Regions"
   ]
  },
  {
   "cell_type": "code",
   "execution_count": 223,
   "metadata": {},
   "outputs": [],
   "source": [
    "#region_names = ('CPLA','SAFR','EUMD','CEAM','WAUS','AMAZ','WAFR','PIND')\n",
    "\n",
    "\n",
    "#latlon_all = np.array([ [-105,-89,34,49],    \n",
    "#                        [15,40,-35,-9],\n",
    "#                        [-12,45,28,50],\n",
    "#                        [-115,-86,10,30], \n",
    "#                        [112,130,-37,-15],\n",
    "#                        [-75,-50,-20,5], \n",
    "#                        [-22,15,0,20],\n",
    "#                        [65,90,5,35],\n",
    "#                      ])\n",
    "\n",
    "region_names = ('GLOB','CPLA')\n",
    "latlon_all   = np.array([ [-180,180,-90,90],\n",
    "                          [-105,-89,34,49],\n",
    "                      ])"
   ]
  },
  {
   "cell_type": "markdown",
   "metadata": {},
   "source": [
    "## Load each model+ensemble, at native resolution\n",
    "* If available, use the gridcell area information\n",
    "* if not, calculate global average as a cosine area weighted mean\n",
    "\n"
   ]
  },
  {
   "cell_type": "code",
   "execution_count": 224,
   "metadata": {},
   "outputs": [
    {
     "name": "stdout",
     "output_type": "stream",
     "text": [
      "(0, 'BCC-CSM2-MR')\n",
      "(1, 'CESM2')\n",
      "(2, 'CESM2-WACCM')\n",
      "(3, 'CNRM-CM6-1')\n",
      "(4, 'CNRM-ESM2-1')\n",
      "(5, 'CanESM5')\n",
      "(6, 'GFDL-CM4')\n",
      "(7, 'IPSL-CM6A-LR')\n",
      "(8, 'MIROC-ES2L')\n",
      "(9, 'MIROC6')\n",
      "(10, 'UKESM1-0-LL')\n"
     ]
    }
   ],
   "source": [
    "curr_var = 'tas'\n",
    "\n",
    "# input and output directories\n",
    "raw_dir  = '/Volumes/Raven/CMIP6/cmip6rawyr'\n",
    "\n",
    "# Storage array for all annual/global averages\n",
    "globeave_allmodels     = np.zeros((np.size(yrs_all),1))*np.nan\n",
    "globeave_single_models = np.zeros((np.size(yrs_all),np.size(unique_models)))*np.nan\n",
    "\n",
    "# Model Loop\n",
    "for n_mod in enumerate(unique_models):\n",
    "    print(n_mod)\n",
    "\n",
    "    # Setup Ensemble Loop\n",
    "    curr_ens = valid_ensemb[np.where(valid_models==n_mod[1])]\n",
    "    \n",
    "    # Storage array for regional averages\n",
    "    var_reg_ave = np.zeros((np.size(region_names),curr_ens.size,yrs_all.size, mons.size))\n",
    "    \n",
    "    # Region Loop\n",
    "    for n_reg in enumerate(region_names):\n",
    "        \n",
    "        # Ensemble/year loops\n",
    "        for n_ens in enumerate(curr_ens):\n",
    "            for n_yr in enumerate(yrs_all):\n",
    "        \n",
    "                # Load current year of data, native resolution\n",
    "                if n_yr[1]<=2014:\n",
    "                    nc_link = raw_dir+'/'+curr_var+'/'+n_mod[1]+'/'+curr_var+'.historical.'+n_mod[1]+'.'+n_ens[1]+'.'+np.str(np.int(n_yr[1]))+'.nc'\n",
    "                else:\n",
    "                    nc_link = raw_dir+'/'+curr_var+'/'+n_mod[1]+'/'+curr_var+'.'+ssp+'.'+n_mod[1]+'.'+n_ens[1]+'.'+np.str(np.int(n_yr[1]))+'.nc'\n",
    "                    \n",
    "                # Load year of data\n",
    "                nc_file = netCDF4.Dataset(nc_link) \n",
    "    \n",
    "                # Pull out variables \n",
    "                var_nc = nc_file.variables[curr_var][:]\n",
    "                lat    = nc_file.variables['lat'][:]\n",
    "                lon    = nc_file.variables['lon'][:]\n",
    "      \n",
    "                # close file\n",
    "                nc_file.close()\n",
    "            \n",
    "                # RECENTER ON GREENWHICH\n",
    "                lon_new = lon-180\n",
    "                i_west  = np.where(lon>=180)[0]\n",
    "                i_east  = np.where(lon<180)[0]\n",
    "                var_nc_shift = np.concatenate((var_nc[:,:,i_west],var_nc[:,:,i_east]),axis=2)\n",
    "            \n",
    "                # Lat/Lon Range for Current Region\n",
    "                curr_latlon = latlon_all[n_reg[0],:].copy()\n",
    "                #curr_latlon = latlon_all[[0]][0].copy()        # only global calculation\n",
    "\n",
    "                # Cut out region\n",
    "                i_lon = np.where( (lon_new>=curr_latlon[0]) & (lon_new<=curr_latlon[1]) )[0]\n",
    "                i_lat = np.where( (lat>=curr_latlon[2]) & (lat<=curr_latlon[3]) )[0]\n",
    "    \n",
    "                # Regional lat/lon\n",
    "                lat_reg = lat[i_lat].copy()\n",
    "                lon_reg = lon_new[i_lon].copy()\n",
    "                \n",
    "                # MODEL METHOD------------------------------------------------------------------------\n",
    "                \n",
    "                # Load gridcell areas/landfraction\n",
    "                #nc_link_area = '../'\n",
    "                \n",
    "                \n",
    "                #-------------------------------------------------------------------------------------\n",
    "                \n",
    "                # COSINE LATITUDE METHOD--------------------------------------------------------------\n",
    "                \n",
    "                # Create Latitude Weights\n",
    "                #lat_wts = scipy.cos(scipy.deg2rad(lat_reg));\n",
    "                #lat_wts_grid,lon_junk = np.meshgrid(lat_wts,lon_reg)\n",
    "                #lat_wts_grid=np.swapaxes(lat_wts_grid,1,0)   #*reg_area\n",
    "            \n",
    "                #-------------------------------------------------------------------------------------\n",
    "                \n",
    "                # Pare down data to just region I'll be averaging over\n",
    "                reg_data = var_nc_shift[:,i_lat,:][:,:,i_lon]\n",
    "            \n",
    "                # Create Regional Averages for each month\n",
    "                for n_mon in enumerate(mons):\n",
    "                    \n",
    "                    # Save spatial average\n",
    "                    var_reg_ave[n_reg[0],n_ens[0],n_yr[0],n_mon[0]] = np.nansum(reg_data[n_mon[0],:,:]*lat_wts_grid)/np.nansum(lat_wts_grid)\n",
    "    \n",
    "    # FOR CURRENT MODEL\n",
    "    # Pull out just global average\n",
    "    globe_reg_ave = var_reg_ave[0,:,:,:].copy()\n",
    "\n",
    "    # Calculate annual average\n",
    "    annvar_reg_ave = np.mean(globe_reg_ave,axis=2)\n",
    "    \n",
    "    # Build full array of all ensemble members\n",
    "    globeave_allmodels = np.hstack((globeave_allmodels,annvar_reg_ave.transpose()))\n",
    "    \n",
    "    # Build full array-single series from each model\n",
    "    globeave_single_models[:,n_mod[0]] = np.mean(annvar_reg_ave,axis=0)"
   ]
  },
  {
   "cell_type": "markdown",
   "metadata": {},
   "source": [
    "## Calculate anomalies relative to baseline"
   ]
  },
  {
   "cell_type": "code",
   "execution_count": 225,
   "metadata": {},
   "outputs": [
    {
     "data": {
      "image/png": "[encoded data removed]",
      "text/plain": [
       "<Figure size 720x432 with 1 Axes>"
      ]
     },
     "metadata": {},
     "output_type": "display_data"
    }
   ],
   "source": [
    "# Baseline Years\n",
    "i_base = np.where( (yrs_all>=1851) & (yrs_all<=1880) )[0]\n",
    "\n",
    "# Calculate baseline climatology for each model\n",
    "base_clim = np.mean(globeave_single_models[i_base,:],axis=0)\n",
    "\n",
    "# Calculate anomalies relative to this baseline\n",
    "globananom_singlemodels = globeave_single_models-base_clim\n",
    "\n",
    "# Save this output\n",
    "\n",
    "# Create Figure\n",
    "#plt.figure(facecolor=\"white\")\n",
    "#plt.plot(yrs_all,globananom_singlemodels)\n",
    "\n",
    "# Ensemble mean/min/max\n",
    "ensemb_mean = np.mean(globananom_singlemodels,axis=1)\n",
    "ensemb_max  = np.max(globananom_singlemodels,axis=1)\n",
    "ensemb_min  = np.min(globananom_singlemodels,axis=1)\n",
    "\n",
    "plt.figure(figsize=(10,6),facecolor=\"white\")\n",
    "sns.set_context(\"notebook\", font_scale=2.5, rc={\"lines.linewidth\": 1.5})\n",
    "plt.plot(yrs_all,ensemb_mean,linewidth=3,color=np.array([83.0,38.0,32.0])/100)\n",
    "plt.plot(np.array([1850,2100]),np.array([0,0]),'--', color='k', linewidth=2)\n",
    "plt.fill_between(yrs_all, ensemb_min, ensemb_max,color=np.array([199,218,221])/255, alpha=0.7)\n",
    "#plt.plot(yr_obs,spireg_warm_obs[n_reg,:]+spireg_cool_obs[n_reg,:],linewidth=1,color=np.array([28.0,58.0,76.0])/100,label=\"Obs.\")\n",
    "#plt.plot(np.array([1400,2016]),np.array([0,0]),'--', color='k', linewidth=2)\n",
    "#plt.text(1940,2.4,'Val. R$^2$='+warm_R2_txt,fontsize=24)\n",
    "plt.title('Global SAT (K): '+ssp)\n",
    "#plt.legend(loc=0)\n",
    "#plt.yticks([-5,-4,-3,-2,-1,0,1,2,3,4,5])\n",
    "plt.xlim(1850,2100)\n",
    "plt.ylim(-1,8)\n",
    "plt.savefig('../figures/global_sat_allmodels_'+ssp+'.pdf',format='pdf')\n"
   ]
  },
  {
   "cell_type": "code",
   "execution_count": 189,
   "metadata": {},
   "outputs": [
    {
     "data": {
      "text/plain": [
       "[<matplotlib.lines.Line2D at 0x7ff1d87f8be0>,\n",
       " <matplotlib.lines.Line2D at 0x7ff1d87f8d30>,\n",
       " <matplotlib.lines.Line2D at 0x7ff1d87f8e80>,\n",
       " <matplotlib.lines.Line2D at 0x7ff1d87f8fd0>,\n",
       " <matplotlib.lines.Line2D at 0x7ff1d8802160>,\n",
       " <matplotlib.lines.Line2D at 0x7ff1d88022b0>,\n",
       " <matplotlib.lines.Line2D at 0x7ff1d8802400>,\n",
       " <matplotlib.lines.Line2D at 0x7ff1d8802550>,\n",
       " <matplotlib.lines.Line2D at 0x7ff1d88026a0>,\n",
       " <matplotlib.lines.Line2D at 0x7ff1d88027f0>,\n",
       " <matplotlib.lines.Line2D at 0x7ff1d8795048>,\n",
       " <matplotlib.lines.Line2D at 0x7ff1d8802a58>]"
      ]
     },
     "execution_count": 189,
     "metadata": {},
     "output_type": "execute_result"
    },
    {
     "data": {
      "image/png": "[encoded data removed]",
      "text/plain": [
       "<Figure size 432x288 with 1 Axes>"
      ]
     },
     "metadata": {},
     "output_type": "display_data"
    }
   ],
   "source": [
    "plt.plot(globananom_singlemodels)"
   ]
  },
  {
   "cell_type": "code",
   "execution_count": 178,
   "metadata": {},
   "outputs": [
    {
     "data": {
      "text/plain": [
       "array([[287.53316044, 287.17880057, 286.88682926, ..., 288.34320152,\n",
       "        286.93942357, 286.51782424],\n",
       "       [287.57944112, 287.29815382, 286.70010509, ..., 288.32088687,\n",
       "        286.99113035, 286.50162901],\n",
       "       [287.74630242, 287.22439768, 286.82341472, ..., 288.36204775,\n",
       "        286.91069955, 286.62462453],\n",
       "       ...,\n",
       "       [292.14830965, 293.42006224, 293.16709971, ..., 292.75525913,\n",
       "        291.4620856 , 293.69817606],\n",
       "       [292.2550603 , 293.48651075, 293.23243515, ..., 292.69306766,\n",
       "        291.56773157, 293.73221687],\n",
       "       [292.3297274 , 293.41144749, 293.34568755, ..., 292.70721287,\n",
       "        291.8482697 , 293.77612348]])"
      ]
     },
     "execution_count": 178,
     "metadata": {},
     "output_type": "execute_result"
    }
   ],
   "source": [
    "#globeave_allmodels\n",
    "globeave_single_models"
   ]
  },
  {
   "cell_type": "code",
   "execution_count": 132,
   "metadata": {},
   "outputs": [
    {
     "ename": "IndexError",
     "evalue": "tuple index out of range",
     "output_type": "error",
     "traceback": [
      "\u001b[0;31m---------------------------------------------------------------------------\u001b[0m",
      "\u001b[0;31mIndexError\u001b[0m                                Traceback (most recent call last)",
      "\u001b[0;32m<ipython-input-132-61d568d5d4f0>\u001b[0m in \u001b[0;36m<module>\u001b[0;34m()\u001b[0m\n\u001b[0;32m----> 1\u001b[0;31m \u001b[0mannvar_reg_ave\u001b[0m \u001b[0;34m=\u001b[0m \u001b[0mnp\u001b[0m\u001b[0;34m.\u001b[0m\u001b[0mmean\u001b[0m\u001b[0;34m(\u001b[0m\u001b[0mvar_reg_ave\u001b[0m\u001b[0;34m[\u001b[0m\u001b[0;36m0\u001b[0m\u001b[0;34m,\u001b[0m\u001b[0;34m:\u001b[0m\u001b[0;34m,\u001b[0m\u001b[0;34m]\u001b[0m\u001b[0;34m,\u001b[0m\u001b[0maxis\u001b[0m\u001b[0;34m=\u001b[0m\u001b[0;36m3\u001b[0m\u001b[0;34m)\u001b[0m\u001b[0;34m\u001b[0m\u001b[0;34m\u001b[0m\u001b[0m\n\u001b[0m\u001b[1;32m      2\u001b[0m \u001b[0mi_base\u001b[0m \u001b[0;34m=\u001b[0m \u001b[0mnp\u001b[0m\u001b[0;34m.\u001b[0m\u001b[0mwhere\u001b[0m\u001b[0;34m(\u001b[0m \u001b[0;34m(\u001b[0m\u001b[0myrs_all\u001b[0m\u001b[0;34m>=\u001b[0m\u001b[0;36m1851\u001b[0m\u001b[0;34m)\u001b[0m \u001b[0;34m&\u001b[0m \u001b[0;34m(\u001b[0m\u001b[0myrs_all\u001b[0m\u001b[0;34m<=\u001b[0m\u001b[0;36m1880\u001b[0m\u001b[0;34m)\u001b[0m \u001b[0;34m)\u001b[0m\u001b[0;34m\u001b[0m\u001b[0;34m\u001b[0m\u001b[0m\n",
      "\u001b[0;32m~/anaconda3/envs/newmap/lib/python3.6/site-packages/numpy/core/fromnumeric.py\u001b[0m in \u001b[0;36mmean\u001b[0;34m(a, axis, dtype, out, keepdims)\u001b[0m\n\u001b[1;32m   2955\u001b[0m \u001b[0;34m\u001b[0m\u001b[0m\n\u001b[1;32m   2956\u001b[0m     return _methods._mean(a, axis=axis, dtype=dtype,\n\u001b[0;32m-> 2957\u001b[0;31m                           out=out, **kwargs)\n\u001b[0m\u001b[1;32m   2958\u001b[0m \u001b[0;34m\u001b[0m\u001b[0m\n\u001b[1;32m   2959\u001b[0m \u001b[0;34m\u001b[0m\u001b[0m\n",
      "\u001b[0;32m~/anaconda3/envs/newmap/lib/python3.6/site-packages/numpy/core/_methods.py\u001b[0m in \u001b[0;36m_mean\u001b[0;34m(a, axis, dtype, out, keepdims)\u001b[0m\n\u001b[1;32m     55\u001b[0m \u001b[0;34m\u001b[0m\u001b[0m\n\u001b[1;32m     56\u001b[0m     \u001b[0mis_float16_result\u001b[0m \u001b[0;34m=\u001b[0m \u001b[0;32mFalse\u001b[0m\u001b[0;34m\u001b[0m\u001b[0;34m\u001b[0m\u001b[0m\n\u001b[0;32m---> 57\u001b[0;31m     \u001b[0mrcount\u001b[0m \u001b[0;34m=\u001b[0m \u001b[0m_count_reduce_items\u001b[0m\u001b[0;34m(\u001b[0m\u001b[0marr\u001b[0m\u001b[0;34m,\u001b[0m \u001b[0maxis\u001b[0m\u001b[0;34m)\u001b[0m\u001b[0;34m\u001b[0m\u001b[0;34m\u001b[0m\u001b[0m\n\u001b[0m\u001b[1;32m     58\u001b[0m     \u001b[0;31m# Make this warning show up first\u001b[0m\u001b[0;34m\u001b[0m\u001b[0;34m\u001b[0m\u001b[0;34m\u001b[0m\u001b[0m\n\u001b[1;32m     59\u001b[0m     \u001b[0;32mif\u001b[0m \u001b[0mrcount\u001b[0m \u001b[0;34m==\u001b[0m \u001b[0;36m0\u001b[0m\u001b[0;34m:\u001b[0m\u001b[0;34m\u001b[0m\u001b[0;34m\u001b[0m\u001b[0m\n",
      "\u001b[0;32m~/anaconda3/envs/newmap/lib/python3.6/site-packages/numpy/core/_methods.py\u001b[0m in \u001b[0;36m_count_reduce_items\u001b[0;34m(arr, axis)\u001b[0m\n\u001b[1;32m     48\u001b[0m     \u001b[0mitems\u001b[0m \u001b[0;34m=\u001b[0m \u001b[0;36m1\u001b[0m\u001b[0;34m\u001b[0m\u001b[0;34m\u001b[0m\u001b[0m\n\u001b[1;32m     49\u001b[0m     \u001b[0;32mfor\u001b[0m \u001b[0max\u001b[0m \u001b[0;32min\u001b[0m \u001b[0maxis\u001b[0m\u001b[0;34m:\u001b[0m\u001b[0;34m\u001b[0m\u001b[0;34m\u001b[0m\u001b[0m\n\u001b[0;32m---> 50\u001b[0;31m         \u001b[0mitems\u001b[0m \u001b[0;34m*=\u001b[0m \u001b[0marr\u001b[0m\u001b[0;34m.\u001b[0m\u001b[0mshape\u001b[0m\u001b[0;34m[\u001b[0m\u001b[0max\u001b[0m\u001b[0;34m]\u001b[0m\u001b[0;34m\u001b[0m\u001b[0;34m\u001b[0m\u001b[0m\n\u001b[0m\u001b[1;32m     51\u001b[0m     \u001b[0;32mreturn\u001b[0m \u001b[0mitems\u001b[0m\u001b[0;34m\u001b[0m\u001b[0;34m\u001b[0m\u001b[0m\n\u001b[1;32m     52\u001b[0m \u001b[0;34m\u001b[0m\u001b[0m\n",
      "\u001b[0;31mIndexError\u001b[0m: tuple index out of range"
     ]
    }
   ],
   "source": [
    "\n",
    "\n",
    "annvar_reg_ave = np.mean(var_reg_ave[0,:,:,:],axis=3)\n",
    "i_base = np.where( (yrs_all>=1851) & (yrs_all<=1880) )"
   ]
  },
  {
   "cell_type": "code",
   "execution_count": 117,
   "metadata": {},
   "outputs": [
    {
     "data": {
      "text/plain": [
       "[<matplotlib.lines.Line2D at 0x7ff1d8752400>]"
      ]
     },
     "execution_count": 117,
     "metadata": {},
     "output_type": "execute_result"
    },
    {
     "data": {
      "image/png": "[encoded data removed]",
      "text/plain": [
       "<Figure size 432x288 with 1 Axes>"
      ]
     },
     "metadata": {},
     "output_type": "display_data"
    }
   ],
   "source": [
    "plt.figure(facecolor=\"white\")\n",
    "plt.plot(yrs_all,annvar_reg_ave[0,:]-np.mean(var_reg_ave[0,i_base]))\n"
   ]
  },
  {
   "cell_type": "code",
   "execution_count": 118,
   "metadata": {},
   "outputs": [
    {
     "data": {
      "text/plain": [
       "<matplotlib.colorbar.Colorbar at 0x7ff1d8869978>"
      ]
     },
     "execution_count": 118,
     "metadata": {},
     "output_type": "execute_result"
    },
    {
     "data": {
      "image/png": "[encoded data removed]",
      "text/plain": [
       "<Figure size 432x288 with 2 Axes>"
      ]
     },
     "metadata": {},
     "output_type": "display_data"
    }
   ],
   "source": [
    "plt.figure(facecolor=\"white\")\n",
    "plt.pcolor(lon_reg,lat_reg,lat_wts_grid,vmin=0,vmax=1)\n",
    "plt.colorbar()"
   ]
  },
  {
   "cell_type": "code",
   "execution_count": 22,
   "metadata": {},
   "outputs": [
    {
     "name": "stdout",
     "output_type": "stream",
     "text": [
      "(0, 'UKESM1-0-LL')\n",
      "/Volumes/Apollo/CMIP6/cmip6interp/pr.regrid.UKESM1-0-LL.hist.ssp245.1850.2100.nc\n",
      "/Volumes/Apollo/CMIP6/cmip6interp/mrsos.regrid.UKESM1-0-LL.hist.ssp245.1850.2100.nc\n",
      "/Volumes/Apollo/CMIP6/cmip6interp/mrso.regrid.UKESM1-0-LL.hist.ssp245.1850.2100.nc\n",
      "/Volumes/Apollo/CMIP6/cmip6interp/mrro.regrid.UKESM1-0-LL.hist.ssp245.1850.2100.nc\n",
      "/Volumes/Apollo/CMIP6/cmip6interp/mrros.regrid.UKESM1-0-LL.hist.ssp245.1850.2100.nc\n",
      "/Volumes/Apollo/CMIP6/cmip6interp/evspsbl.regrid.UKESM1-0-LL.hist.ssp245.1850.2100.nc\n",
      "/Volumes/Apollo/CMIP6/cmip6interp/tas.regrid.UKESM1-0-LL.hist.ssp245.1850.2100.nc\n"
     ]
    }
   ],
   "source": [
    "# input and output directories\n",
    "raw_dir  = '/Volumes/Apollo/CMIP6/cmip6rawyr'\n",
    "save_dir = '/Volumes/Apollo/CMIP6/cmip6interp/'\n",
    "\n",
    "# Model Loop\n",
    "for n_mod in enumerate(unique_models):\n",
    "    print(n_mod)\n",
    "\n",
    "    # Setup Ensemble Loop\n",
    "    curr_ens = valid_ensemb[np.where(valid_models==n_mod[1])]\n",
    "    \n",
    "    # Variable Loop\n",
    "    for n_var in enumerate(var_list):\n",
    "    \n",
    "        # Setup dummay array for variable\n",
    "        varinterp_array = np.zeros((curr_ens.size,yrs_all.size,12,lat_intp.size,lon_intp.size))*np.nan\n",
    "        \n",
    "        # Ensemble/year loops\n",
    "        for n_ens in enumerate(curr_ens):\n",
    "            for n_yr in enumerate(yrs_all):\n",
    "        \n",
    "                # Load current year of data, native resolution\n",
    "                if n_yr[1]<=2014:\n",
    "                    nc_link = raw_dir+'/'+n_var[1]+'/'+n_mod[1]+'/'+n_var[1]+'.historical.'+n_mod[1]+'.'+n_ens[1]+'.'+np.str(np.int(n_yr[1]))+'.nc'\n",
    "                else:\n",
    "                    nc_link = raw_dir+'/'+n_var[1]+'/'+n_mod[1]+'/'+n_var[1]+'.'+ssp+'.'+n_mod[1]+'.'+n_ens[1]+'.'+np.str(np.int(n_yr[1]))+'.nc'\n",
    "                    \n",
    "                # Load year of data\n",
    "                nc_file = netCDF4.Dataset(nc_link) \n",
    "    \n",
    "                # Pull out variables \n",
    "                var_nc = nc_file.variables[n_var[1]][:]\n",
    "                lat    = nc_file.variables['lat'][:]\n",
    "                lon    = nc_file.variables['lon'][:]\n",
    "      \n",
    "                # close file\n",
    "                nc_file.close()\n",
    "            \n",
    "                # RECENTER ON GREENWHICH\n",
    "                lon_new = lon-180\n",
    "                i_west  = np.where(lon>=180)[0]\n",
    "                i_east  = np.where(lon<180)[0]\n",
    "                var_nc_shift = np.concatenate((var_nc[:,:,i_west],var_nc[:,:,i_east]),axis=2)\n",
    "            \n",
    "                # LOOP THROUGH EACH MONTH AND INTERPOLATE TO 1.5 DEGREE spatial resolution\n",
    "                #Array to store interpolated data\n",
    "                var_interp = np.zeros((12,lat_intp.size,lon_intp.size))*np.nan\n",
    "            \n",
    "                # Loop through each month\n",
    "                for n_mon in enumerate(mons):\n",
    "    \n",
    "                    # Current data\n",
    "                    curr_data = copy.deepcopy(var_nc_shift[n_mon[0],:,:])\n",
    "    \n",
    "                    # Interpolate\n",
    "                    f = scipy.interpolate.interp2d(lon_new, lat, curr_data, kind='linear')\n",
    "                    #curr_mon_interp = np.flip(f(lon_intp, lat_intp),axis=0)\n",
    "                    curr_mon_interp = f(lon_intp, lat_intp)\n",
    "\n",
    "                    # Store in array to save\n",
    "                    var_interp[n_mon[0],:,:] = curr_mon_interp\n",
    "            \n",
    "                # Store current year of interpolated data into full array\n",
    "                varinterp_array[n_ens[0],n_yr[0],:,:,:]=var_interp\n",
    "            \n",
    "        # Save to a NetCDF File: INTERPOLATED-----------------------------------------------------------------------------------------\n",
    "   \n",
    "        # Output Name\n",
    "        fname_out= save_dir+n_var[1]+'.regrid.'+n_mod[1]+'.hist.'+ssp+'.'+np.str(np.min(yrs_all))+'.'+np.str(np.max(yrs_all))+'.nc'\n",
    "        print(fname_out)\n",
    "\n",
    "        # If this file exists, delete it and overwrite\n",
    "        if os.path.isfile(fname_out)==True:\n",
    "            os.remove(fname_out)\n",
    "    \n",
    "        # Create and open output file\n",
    "        ncout = netCDF4.Dataset(fname_out,'w',clobber=True,format=\"NETCDF4_CLASSIC\")\n",
    "        #ncout = netCDF4.Dataset(fname_out,'w',clobber=True,format=\"NETCDF4\")\n",
    "\n",
    "        # Create Dimensions\n",
    "        ncout.createDimension('lat',  np.size(lat_intp))\n",
    "        ncout.createDimension('lon',  np.size(lon_intp))\n",
    "        ncout.createDimension('mon',  np.size(mons))\n",
    "        ncout.createDimension('yr',   np.size(yrs_all))\n",
    "        ncout.createDimension('ens',  np.size(curr_ens))\n",
    "\n",
    "        # Create Variables (info: name, precision, dimensions)\n",
    "        lat_nc   = ncout.createVariable('lat', float, ('lat'), zlib=True)\n",
    "        lon_nc   = ncout.createVariable('lon', float, ('lon'), zlib=True)\n",
    "        mon_nc   = ncout.createVariable('mon', float, ('mon'), zlib=True)\n",
    "        yr_nc    = ncout.createVariable('yr',  float, ('yr'),  zlib=True)\n",
    "        ens_nc   = ncout.createVariable('ens', float, ('ens'), zlib=True)\n",
    "    \n",
    "        # Multi-Dimensional Variables\n",
    "        var_nc  = ncout.createVariable(n_var[1], float, ('ens','yr','mon','lat','lon'), zlib=True)\n",
    "\n",
    "        # Write out dimensional data\n",
    "        lat_nc[:]  = lat_intp;                    lat_nc.long_name  = 'latitude';         lat_nc.units = 'degrees_north';\n",
    "        lon_nc[:]  = lon_intp;                    lon_nc.long_name  = 'longitude';        lon_nc.units = 'degrees_east';\n",
    "        mon_nc[:]  = mons;                        mon_nc.long_name  = 'month';            mon_nc.units = 'unitless';   \n",
    "        yr_nc[:]   = yrs_all;                     yr_nc.long_name   = 'year';             yr_nc.units  = 'unitless';   \n",
    "        ens_nc[:]  = np.arange(curr_ens.size)+1;  ens_nc.long_name  = 'ensemble member';  ens_nc.units = 'unitless';   \n",
    "\n",
    "        # Write out data\n",
    "        var_nc[:]        = varinterp_array \n",
    "        var_nc.long_name = longname_list[n_var[0]]  \n",
    "        var_nc.units     = unit_list[n_var[0]]\n",
    "\n",
    "        # File Information\n",
    "        ncout.comment = n_mod[1]+' (hist+'+ssp+', regridded): '+\" \".join(curr_ens)\n",
    "\n",
    "        # Close the file\n",
    "        ncout.close()    \n"
   ]
  },
  {
   "cell_type": "code",
   "execution_count": null,
   "metadata": {},
   "outputs": [],
   "source": []
  }
 ],
 "metadata": {
  "kernelspec": {
   "display_name": "Python 3",
   "language": "python",
   "name": "python3"
  },
  "language_info": {
   "codemirror_mode": {
    "name": "ipython",
    "version": 3
   },
   "file_extension": ".py",
   "mimetype": "text/x-python",
   "name": "python",
   "nbconvert_exporter": "python",
   "pygments_lexer": "ipython3",
   "version": "3.6.8"
  }
 },
 "nbformat": 4,
 "nbformat_minor": 4
}
